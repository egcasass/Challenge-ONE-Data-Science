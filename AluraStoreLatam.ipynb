{
  "nbformat": 4,
  "nbformat_minor": 0,
  "metadata": {
    "colab": {
      "provenance": []
    },
    "kernelspec": {
      "name": "python3",
      "display_name": "Python 3"
    },
    "language_info": {
      "name": "python"
    }
  },
  "cells": [
    {
      "cell_type": "markdown",
      "source": [
        "### Importación de datos\n",
        "\n"
      ],
      "metadata": {
        "id": "RhEdWd9YUR6H"
      }
    },
    {
      "cell_type": "code",
      "execution_count": 34,
      "metadata": {
        "colab": {
          "base_uri": "https://localhost:8080/",
          "height": 206
        },
        "id": "T3EvaeQ_INIL",
        "outputId": "800fe9b0-ac06-4b8b-c455-de9c03e7c879"
      },
      "outputs": [
        {
          "output_type": "execute_result",
          "data": {
            "text/plain": [
              "            Producto Categoría del Producto    Precio  Costo de envío  \\\n",
              "0  Asistente virtual           Electrónicos  164300.0          6900.0   \n",
              "1    Mesa de comedor                Muebles  192300.0          8400.0   \n",
              "2      Juego de mesa               Juguetes  209600.0         15900.0   \n",
              "3         Microondas      Electrodomésticos  757500.0         41000.0   \n",
              "4   Silla de oficina                Muebles  335200.0         20200.0   \n",
              "\n",
              "  Fecha de Compra         Vendedor Lugar de Compra  Calificación  \\\n",
              "0      16/01/2021      Pedro Gomez          Bogotá             4   \n",
              "1      18/05/2022  Beatriz Morales        Medellín             1   \n",
              "2      15/03/2021   Juan Fernandez       Cartagena             1   \n",
              "3      03/05/2022   Juan Fernandez            Cali             4   \n",
              "4      07/11/2020    Maria Alfonso        Medellín             5   \n",
              "\n",
              "       Método de pago  Cantidad de cuotas       lat       lon  \n",
              "0  Tarjeta de crédito                   8   4.60971 -74.08175  \n",
              "1  Tarjeta de crédito                   4   6.25184 -75.56359  \n",
              "2  Tarjeta de crédito                   1  10.39972 -75.51444  \n",
              "3               Nequi                   1   3.43722 -76.52250  \n",
              "4               Nequi                   1   6.25184 -75.56359  "
            ],
            "text/html": [
              "\n",
              "  <div id=\"df-5f0ca855-304f-49a9-b97c-ae930830a772\" class=\"colab-df-container\">\n",
              "    <div>\n",
              "<style scoped>\n",
              "    .dataframe tbody tr th:only-of-type {\n",
              "        vertical-align: middle;\n",
              "    }\n",
              "\n",
              "    .dataframe tbody tr th {\n",
              "        vertical-align: top;\n",
              "    }\n",
              "\n",
              "    .dataframe thead th {\n",
              "        text-align: right;\n",
              "    }\n",
              "</style>\n",
              "<table border=\"1\" class=\"dataframe\">\n",
              "  <thead>\n",
              "    <tr style=\"text-align: right;\">\n",
              "      <th></th>\n",
              "      <th>Producto</th>\n",
              "      <th>Categoría del Producto</th>\n",
              "      <th>Precio</th>\n",
              "      <th>Costo de envío</th>\n",
              "      <th>Fecha de Compra</th>\n",
              "      <th>Vendedor</th>\n",
              "      <th>Lugar de Compra</th>\n",
              "      <th>Calificación</th>\n",
              "      <th>Método de pago</th>\n",
              "      <th>Cantidad de cuotas</th>\n",
              "      <th>lat</th>\n",
              "      <th>lon</th>\n",
              "    </tr>\n",
              "  </thead>\n",
              "  <tbody>\n",
              "    <tr>\n",
              "      <th>0</th>\n",
              "      <td>Asistente virtual</td>\n",
              "      <td>Electrónicos</td>\n",
              "      <td>164300.0</td>\n",
              "      <td>6900.0</td>\n",
              "      <td>16/01/2021</td>\n",
              "      <td>Pedro Gomez</td>\n",
              "      <td>Bogotá</td>\n",
              "      <td>4</td>\n",
              "      <td>Tarjeta de crédito</td>\n",
              "      <td>8</td>\n",
              "      <td>4.60971</td>\n",
              "      <td>-74.08175</td>\n",
              "    </tr>\n",
              "    <tr>\n",
              "      <th>1</th>\n",
              "      <td>Mesa de comedor</td>\n",
              "      <td>Muebles</td>\n",
              "      <td>192300.0</td>\n",
              "      <td>8400.0</td>\n",
              "      <td>18/05/2022</td>\n",
              "      <td>Beatriz Morales</td>\n",
              "      <td>Medellín</td>\n",
              "      <td>1</td>\n",
              "      <td>Tarjeta de crédito</td>\n",
              "      <td>4</td>\n",
              "      <td>6.25184</td>\n",
              "      <td>-75.56359</td>\n",
              "    </tr>\n",
              "    <tr>\n",
              "      <th>2</th>\n",
              "      <td>Juego de mesa</td>\n",
              "      <td>Juguetes</td>\n",
              "      <td>209600.0</td>\n",
              "      <td>15900.0</td>\n",
              "      <td>15/03/2021</td>\n",
              "      <td>Juan Fernandez</td>\n",
              "      <td>Cartagena</td>\n",
              "      <td>1</td>\n",
              "      <td>Tarjeta de crédito</td>\n",
              "      <td>1</td>\n",
              "      <td>10.39972</td>\n",
              "      <td>-75.51444</td>\n",
              "    </tr>\n",
              "    <tr>\n",
              "      <th>3</th>\n",
              "      <td>Microondas</td>\n",
              "      <td>Electrodomésticos</td>\n",
              "      <td>757500.0</td>\n",
              "      <td>41000.0</td>\n",
              "      <td>03/05/2022</td>\n",
              "      <td>Juan Fernandez</td>\n",
              "      <td>Cali</td>\n",
              "      <td>4</td>\n",
              "      <td>Nequi</td>\n",
              "      <td>1</td>\n",
              "      <td>3.43722</td>\n",
              "      <td>-76.52250</td>\n",
              "    </tr>\n",
              "    <tr>\n",
              "      <th>4</th>\n",
              "      <td>Silla de oficina</td>\n",
              "      <td>Muebles</td>\n",
              "      <td>335200.0</td>\n",
              "      <td>20200.0</td>\n",
              "      <td>07/11/2020</td>\n",
              "      <td>Maria Alfonso</td>\n",
              "      <td>Medellín</td>\n",
              "      <td>5</td>\n",
              "      <td>Nequi</td>\n",
              "      <td>1</td>\n",
              "      <td>6.25184</td>\n",
              "      <td>-75.56359</td>\n",
              "    </tr>\n",
              "  </tbody>\n",
              "</table>\n",
              "</div>\n",
              "    <div class=\"colab-df-buttons\">\n",
              "\n",
              "  <div class=\"colab-df-container\">\n",
              "    <button class=\"colab-df-convert\" onclick=\"convertToInteractive('df-5f0ca855-304f-49a9-b97c-ae930830a772')\"\n",
              "            title=\"Convert this dataframe to an interactive table.\"\n",
              "            style=\"display:none;\">\n",
              "\n",
              "  <svg xmlns=\"http://www.w3.org/2000/svg\" height=\"24px\" viewBox=\"0 -960 960 960\">\n",
              "    <path d=\"M120-120v-720h720v720H120Zm60-500h600v-160H180v160Zm220 220h160v-160H400v160Zm0 220h160v-160H400v160ZM180-400h160v-160H180v160Zm440 0h160v-160H620v160ZM180-180h160v-160H180v160Zm440 0h160v-160H620v160Z\"/>\n",
              "  </svg>\n",
              "    </button>\n",
              "\n",
              "  <style>\n",
              "    .colab-df-container {\n",
              "      display:flex;\n",
              "      gap: 12px;\n",
              "    }\n",
              "\n",
              "    .colab-df-convert {\n",
              "      background-color: #E8F0FE;\n",
              "      border: none;\n",
              "      border-radius: 50%;\n",
              "      cursor: pointer;\n",
              "      display: none;\n",
              "      fill: #1967D2;\n",
              "      height: 32px;\n",
              "      padding: 0 0 0 0;\n",
              "      width: 32px;\n",
              "    }\n",
              "\n",
              "    .colab-df-convert:hover {\n",
              "      background-color: #E2EBFA;\n",
              "      box-shadow: 0px 1px 2px rgba(60, 64, 67, 0.3), 0px 1px 3px 1px rgba(60, 64, 67, 0.15);\n",
              "      fill: #174EA6;\n",
              "    }\n",
              "\n",
              "    .colab-df-buttons div {\n",
              "      margin-bottom: 4px;\n",
              "    }\n",
              "\n",
              "    [theme=dark] .colab-df-convert {\n",
              "      background-color: #3B4455;\n",
              "      fill: #D2E3FC;\n",
              "    }\n",
              "\n",
              "    [theme=dark] .colab-df-convert:hover {\n",
              "      background-color: #434B5C;\n",
              "      box-shadow: 0px 1px 3px 1px rgba(0, 0, 0, 0.15);\n",
              "      filter: drop-shadow(0px 1px 2px rgba(0, 0, 0, 0.3));\n",
              "      fill: #FFFFFF;\n",
              "    }\n",
              "  </style>\n",
              "\n",
              "    <script>\n",
              "      const buttonEl =\n",
              "        document.querySelector('#df-5f0ca855-304f-49a9-b97c-ae930830a772 button.colab-df-convert');\n",
              "      buttonEl.style.display =\n",
              "        google.colab.kernel.accessAllowed ? 'block' : 'none';\n",
              "\n",
              "      async function convertToInteractive(key) {\n",
              "        const element = document.querySelector('#df-5f0ca855-304f-49a9-b97c-ae930830a772');\n",
              "        const dataTable =\n",
              "          await google.colab.kernel.invokeFunction('convertToInteractive',\n",
              "                                                    [key], {});\n",
              "        if (!dataTable) return;\n",
              "\n",
              "        const docLinkHtml = 'Like what you see? Visit the ' +\n",
              "          '<a target=\"_blank\" href=https://colab.research.google.com/notebooks/data_table.ipynb>data table notebook</a>'\n",
              "          + ' to learn more about interactive tables.';\n",
              "        element.innerHTML = '';\n",
              "        dataTable['output_type'] = 'display_data';\n",
              "        await google.colab.output.renderOutput(dataTable, element);\n",
              "        const docLink = document.createElement('div');\n",
              "        docLink.innerHTML = docLinkHtml;\n",
              "        element.appendChild(docLink);\n",
              "      }\n",
              "    </script>\n",
              "  </div>\n",
              "\n",
              "\n",
              "    <div id=\"df-f1f11f03-a8ef-4752-b039-28a4d2c48ff0\">\n",
              "      <button class=\"colab-df-quickchart\" onclick=\"quickchart('df-f1f11f03-a8ef-4752-b039-28a4d2c48ff0')\"\n",
              "                title=\"Suggest charts\"\n",
              "                style=\"display:none;\">\n",
              "\n",
              "<svg xmlns=\"http://www.w3.org/2000/svg\" height=\"24px\"viewBox=\"0 0 24 24\"\n",
              "     width=\"24px\">\n",
              "    <g>\n",
              "        <path d=\"M19 3H5c-1.1 0-2 .9-2 2v14c0 1.1.9 2 2 2h14c1.1 0 2-.9 2-2V5c0-1.1-.9-2-2-2zM9 17H7v-7h2v7zm4 0h-2V7h2v10zm4 0h-2v-4h2v4z\"/>\n",
              "    </g>\n",
              "</svg>\n",
              "      </button>\n",
              "\n",
              "<style>\n",
              "  .colab-df-quickchart {\n",
              "      --bg-color: #E8F0FE;\n",
              "      --fill-color: #1967D2;\n",
              "      --hover-bg-color: #E2EBFA;\n",
              "      --hover-fill-color: #174EA6;\n",
              "      --disabled-fill-color: #AAA;\n",
              "      --disabled-bg-color: #DDD;\n",
              "  }\n",
              "\n",
              "  [theme=dark] .colab-df-quickchart {\n",
              "      --bg-color: #3B4455;\n",
              "      --fill-color: #D2E3FC;\n",
              "      --hover-bg-color: #434B5C;\n",
              "      --hover-fill-color: #FFFFFF;\n",
              "      --disabled-bg-color: #3B4455;\n",
              "      --disabled-fill-color: #666;\n",
              "  }\n",
              "\n",
              "  .colab-df-quickchart {\n",
              "    background-color: var(--bg-color);\n",
              "    border: none;\n",
              "    border-radius: 50%;\n",
              "    cursor: pointer;\n",
              "    display: none;\n",
              "    fill: var(--fill-color);\n",
              "    height: 32px;\n",
              "    padding: 0;\n",
              "    width: 32px;\n",
              "  }\n",
              "\n",
              "  .colab-df-quickchart:hover {\n",
              "    background-color: var(--hover-bg-color);\n",
              "    box-shadow: 0 1px 2px rgba(60, 64, 67, 0.3), 0 1px 3px 1px rgba(60, 64, 67, 0.15);\n",
              "    fill: var(--button-hover-fill-color);\n",
              "  }\n",
              "\n",
              "  .colab-df-quickchart-complete:disabled,\n",
              "  .colab-df-quickchart-complete:disabled:hover {\n",
              "    background-color: var(--disabled-bg-color);\n",
              "    fill: var(--disabled-fill-color);\n",
              "    box-shadow: none;\n",
              "  }\n",
              "\n",
              "  .colab-df-spinner {\n",
              "    border: 2px solid var(--fill-color);\n",
              "    border-color: transparent;\n",
              "    border-bottom-color: var(--fill-color);\n",
              "    animation:\n",
              "      spin 1s steps(1) infinite;\n",
              "  }\n",
              "\n",
              "  @keyframes spin {\n",
              "    0% {\n",
              "      border-color: transparent;\n",
              "      border-bottom-color: var(--fill-color);\n",
              "      border-left-color: var(--fill-color);\n",
              "    }\n",
              "    20% {\n",
              "      border-color: transparent;\n",
              "      border-left-color: var(--fill-color);\n",
              "      border-top-color: var(--fill-color);\n",
              "    }\n",
              "    30% {\n",
              "      border-color: transparent;\n",
              "      border-left-color: var(--fill-color);\n",
              "      border-top-color: var(--fill-color);\n",
              "      border-right-color: var(--fill-color);\n",
              "    }\n",
              "    40% {\n",
              "      border-color: transparent;\n",
              "      border-right-color: var(--fill-color);\n",
              "      border-top-color: var(--fill-color);\n",
              "    }\n",
              "    60% {\n",
              "      border-color: transparent;\n",
              "      border-right-color: var(--fill-color);\n",
              "    }\n",
              "    80% {\n",
              "      border-color: transparent;\n",
              "      border-right-color: var(--fill-color);\n",
              "      border-bottom-color: var(--fill-color);\n",
              "    }\n",
              "    90% {\n",
              "      border-color: transparent;\n",
              "      border-bottom-color: var(--fill-color);\n",
              "    }\n",
              "  }\n",
              "</style>\n",
              "\n",
              "      <script>\n",
              "        async function quickchart(key) {\n",
              "          const quickchartButtonEl =\n",
              "            document.querySelector('#' + key + ' button');\n",
              "          quickchartButtonEl.disabled = true;  // To prevent multiple clicks.\n",
              "          quickchartButtonEl.classList.add('colab-df-spinner');\n",
              "          try {\n",
              "            const charts = await google.colab.kernel.invokeFunction(\n",
              "                'suggestCharts', [key], {});\n",
              "          } catch (error) {\n",
              "            console.error('Error during call to suggestCharts:', error);\n",
              "          }\n",
              "          quickchartButtonEl.classList.remove('colab-df-spinner');\n",
              "          quickchartButtonEl.classList.add('colab-df-quickchart-complete');\n",
              "        }\n",
              "        (() => {\n",
              "          let quickchartButtonEl =\n",
              "            document.querySelector('#df-f1f11f03-a8ef-4752-b039-28a4d2c48ff0 button');\n",
              "          quickchartButtonEl.style.display =\n",
              "            google.colab.kernel.accessAllowed ? 'block' : 'none';\n",
              "        })();\n",
              "      </script>\n",
              "    </div>\n",
              "\n",
              "    </div>\n",
              "  </div>\n"
            ],
            "application/vnd.google.colaboratory.intrinsic+json": {
              "type": "dataframe",
              "variable_name": "tienda",
              "summary": "{\n  \"name\": \"tienda\",\n  \"rows\": 2359,\n  \"fields\": [\n    {\n      \"column\": \"Producto\",\n      \"properties\": {\n        \"dtype\": \"category\",\n        \"num_unique_values\": 51,\n        \"samples\": [\n          \"Guitarra ac\\u00fastica\",\n          \"Bal\\u00f3n de baloncesto\",\n          \"Smartwatch\"\n        ],\n        \"semantic_type\": \"\",\n        \"description\": \"\"\n      }\n    },\n    {\n      \"column\": \"Categor\\u00eda del Producto\",\n      \"properties\": {\n        \"dtype\": \"category\",\n        \"num_unique_values\": 8,\n        \"samples\": [\n          \"Muebles\",\n          \"Deportes y diversi\\u00f3n\",\n          \"Electr\\u00f3nicos\"\n        ],\n        \"semantic_type\": \"\",\n        \"description\": \"\"\n      }\n    },\n    {\n      \"column\": \"Precio\",\n      \"properties\": {\n        \"dtype\": \"number\",\n        \"std\": 614686.7653873172,\n        \"min\": 7600.0,\n        \"max\": 2977000.0,\n        \"num_unique_values\": 1937,\n        \"samples\": [\n          2499400.0,\n          14800.0,\n          80500.0\n        ],\n        \"semantic_type\": \"\",\n        \"description\": \"\"\n      }\n    },\n    {\n      \"column\": \"Costo de env\\u00edo\",\n      \"properties\": {\n        \"dtype\": \"number\",\n        \"std\": 32860.0017825605,\n        \"min\": 0.0,\n        \"max\": 160800.0,\n        \"num_unique_values\": 753,\n        \"samples\": [\n          117800.0,\n          54700.0,\n          45600.0\n        ],\n        \"semantic_type\": \"\",\n        \"description\": \"\"\n      }\n    },\n    {\n      \"column\": \"Fecha de Compra\",\n      \"properties\": {\n        \"dtype\": \"object\",\n        \"num_unique_values\": 1018,\n        \"samples\": [\n          \"15/09/2022\",\n          \"03/06/2020\",\n          \"06/11/2021\"\n        ],\n        \"semantic_type\": \"\",\n        \"description\": \"\"\n      }\n    },\n    {\n      \"column\": \"Vendedor\",\n      \"properties\": {\n        \"dtype\": \"category\",\n        \"num_unique_values\": 14,\n        \"samples\": [\n          \"Juliana Costa\",\n          \"Mariana Herrera\",\n          \"Pedro Gomez\"\n        ],\n        \"semantic_type\": \"\",\n        \"description\": \"\"\n      }\n    },\n    {\n      \"column\": \"Lugar de Compra\",\n      \"properties\": {\n        \"dtype\": \"category\",\n        \"num_unique_values\": 19,\n        \"samples\": [\n          \"Bogot\\u00e1\",\n          \"Pereira\",\n          \"Neiva\"\n        ],\n        \"semantic_type\": \"\",\n        \"description\": \"\"\n      }\n    },\n    {\n      \"column\": \"Calificaci\\u00f3n\",\n      \"properties\": {\n        \"dtype\": \"number\",\n        \"std\": 1,\n        \"min\": 1,\n        \"max\": 5,\n        \"num_unique_values\": 5,\n        \"samples\": [\n          1,\n          2,\n          5\n        ],\n        \"semantic_type\": \"\",\n        \"description\": \"\"\n      }\n    },\n    {\n      \"column\": \"M\\u00e9todo de pago\",\n      \"properties\": {\n        \"dtype\": \"category\",\n        \"num_unique_values\": 4,\n        \"samples\": [\n          \"Nequi\",\n          \"Tarjeta de d\\u00e9bito\",\n          \"Tarjeta de cr\\u00e9dito\"\n        ],\n        \"semantic_type\": \"\",\n        \"description\": \"\"\n      }\n    },\n    {\n      \"column\": \"Cantidad de cuotas\",\n      \"properties\": {\n        \"dtype\": \"number\",\n        \"std\": 2,\n        \"min\": 1,\n        \"max\": 24,\n        \"num_unique_values\": 15,\n        \"samples\": [\n          7,\n          14,\n          8\n        ],\n        \"semantic_type\": \"\",\n        \"description\": \"\"\n      }\n    },\n    {\n      \"column\": \"lat\",\n      \"properties\": {\n        \"dtype\": \"number\",\n        \"std\": 2.2874452492678627,\n        \"min\": -4.21528,\n        \"max\": 11.54444,\n        \"num_unique_values\": 19,\n        \"samples\": [\n          4.60971,\n          4.81333,\n          2.9273\n        ],\n        \"semantic_type\": \"\",\n        \"description\": \"\"\n      }\n    },\n    {\n      \"column\": \"lon\",\n      \"properties\": {\n        \"dtype\": \"number\",\n        \"std\": 1.2178272727088486,\n        \"min\": -77.28111,\n        \"max\": -67.9239,\n        \"num_unique_values\": 19,\n        \"samples\": [\n          -74.08175,\n          -75.69611,\n          -75.28189\n        ],\n        \"semantic_type\": \"\",\n        \"description\": \"\"\n      }\n    }\n  ]\n}"
            }
          },
          "metadata": {},
          "execution_count": 34
        }
      ],
      "source": [
        "import pandas as pd\n",
        "\n",
        "url = \"https://raw.githubusercontent.com/alura-es-cursos/challenge1-data-science-latam/refs/heads/main/base-de-datos-challenge1-latam/tienda_1%20.csv\"\n",
        "url2 = \"https://raw.githubusercontent.com/alura-es-cursos/challenge1-data-science-latam/refs/heads/main/base-de-datos-challenge1-latam/tienda_2.csv\"\n",
        "url3 = \"https://raw.githubusercontent.com/alura-es-cursos/challenge1-data-science-latam/refs/heads/main/base-de-datos-challenge1-latam/tienda_3.csv\"\n",
        "url4 = \"https://raw.githubusercontent.com/alura-es-cursos/challenge1-data-science-latam/refs/heads/main/base-de-datos-challenge1-latam/tienda_4.csv\"\n",
        "\n",
        "tienda = pd.read_csv(url)\n",
        "tienda2 = pd.read_csv(url2)\n",
        "tienda3 = pd.read_csv(url3)\n",
        "tienda4 = pd.read_csv(url4)\n",
        "\n",
        "tienda.head()"
      ]
    },
    {
      "cell_type": "markdown",
      "source": [
        "#1. Análisis de facturación\n",
        "\n"
      ],
      "metadata": {
        "id": "X62IW3KFUIYm"
      }
    },
    {
      "cell_type": "code",
      "source": [
        "ingreso_total_tienda = tienda['Precio'].sum()\n",
        "ingreso_total_tienda2 = tienda2['Precio'].sum()\n",
        "ingreso_total_tienda3 = tienda3['Precio'].sum()\n",
        "ingreso_total_tienda4 = tienda4['Precio'].sum()\n",
        "\n",
        "print(\"Ingreso total tienda 1:\", ingreso_total_tienda)\n",
        "print(\"Ingreso total tienda 2:\", ingreso_total_tienda2)\n",
        "print(\"Ingreso total tienda 3:\", ingreso_total_tienda3)\n",
        "print(\"Ingreso total tienda 4:\", ingreso_total_tienda4)"
      ],
      "metadata": {
        "id": "xykobSftV64I",
        "colab": {
          "base_uri": "https://localhost:8080/"
        },
        "outputId": "9c3ed880-fbee-4f8b-bdb6-b2925d0cfc87"
      },
      "execution_count": 9,
      "outputs": [
        {
          "output_type": "stream",
          "name": "stdout",
          "text": [
            "Ingreso total tienda 1: 1150880400.0\n",
            "Ingreso total tienda 2: 1116343500.0\n",
            "Ingreso total tienda 3: 1098019600.0\n",
            "Ingreso total tienda 4: 1038375700.0\n"
          ]
        }
      ]
    },
    {
      "cell_type": "code",
      "source": [
        "ingresos = {'Tienda 1': ingreso_total_tienda,\n",
        "            'Tienda 2': ingreso_total_tienda2,\n",
        "            'Tienda 3': ingreso_total_tienda3,\n",
        "            'Tienda 4': ingreso_total_tienda4}\n",
        "\n",
        "tienda_mayor_venta = max(ingresos, key=ingresos.get)\n",
        "print(f'La tienda con mayor ingreso es {tienda_mayor_venta} con un total de {ingresos[tienda_mayor_venta]}')\n"
      ],
      "metadata": {
        "colab": {
          "base_uri": "https://localhost:8080/"
        },
        "id": "nIL50zsV6aq7",
        "outputId": "1ed58d5e-153a-4986-cca5-254e363a5372"
      },
      "execution_count": 30,
      "outputs": [
        {
          "output_type": "stream",
          "name": "stdout",
          "text": [
            "La tienda con mayor ingreso es Tienda 1 con un total de 1150880400.0\n"
          ]
        }
      ]
    },
    {
      "cell_type": "markdown",
      "source": [
        "# 2. Ventas por categoría"
      ],
      "metadata": {
        "id": "2V_vcAPzWZmR"
      }
    },
    {
      "cell_type": "code",
      "source": [
        "ventas_categoria_tienda1 = tienda.groupby('Categoría del Producto').size().sort_values(ascending=False)\n",
        "ventas_categoria_tienda2 = tienda2.groupby('Categoría del Producto').size().sort_values(ascending=False)\n",
        "ventas_categoria_tienda3 = tienda3.groupby('Categoría del Producto').size().sort_values(ascending=False)\n",
        "ventas_categoria_tienda4 = tienda4.groupby('Categoría del Producto').size().sort_values(ascending=False)\n",
        "\n",
        "print(\n",
        "    'Ventas por categoría por tienda:\\n'\n",
        "    f'- Tienda 1:\\n{ventas_categoria_tienda1.to_string()}\\n\\n'\n",
        "    f'- Tienda 2:\\n{ventas_categoria_tienda2.to_string()}\\n\\n'\n",
        "    f'- Tienda 3:\\n{ventas_categoria_tienda3.to_string()}\\n\\n'\n",
        "    f'- Tienda 4:\\n{ventas_categoria_tienda3.to_string()}'\n",
        ")"
      ],
      "metadata": {
        "id": "A34YupIuYhfF",
        "colab": {
          "base_uri": "https://localhost:8080/"
        },
        "outputId": "9fb2d9a9-babe-49ee-caf9-ae9988c125bd"
      },
      "execution_count": 26,
      "outputs": [
        {
          "output_type": "stream",
          "name": "stdout",
          "text": [
            "Ventas por categoría por tienda:\n",
            "- Tienda 1:\n",
            "Categoría del Producto\n",
            "Muebles                    465\n",
            "Electrónicos               448\n",
            "Juguetes                   324\n",
            "Electrodomésticos          312\n",
            "Deportes y diversión       284\n",
            "Instrumentos musicales     182\n",
            "Libros                     173\n",
            "Artículos para el hogar    171\n",
            "\n",
            "- Tienda 2:\n",
            "Categoría del Producto\n",
            "Muebles                    442\n",
            "Electrónicos               422\n",
            "Juguetes                   313\n",
            "Electrodomésticos          305\n",
            "Deportes y diversión       275\n",
            "Instrumentos musicales     224\n",
            "Libros                     197\n",
            "Artículos para el hogar    181\n",
            "\n",
            "- Tienda 3:\n",
            "Categoría del Producto\n",
            "Muebles                    499\n",
            "Electrónicos               451\n",
            "Juguetes                   315\n",
            "Electrodomésticos          278\n",
            "Deportes y diversión       277\n",
            "Libros                     185\n",
            "Artículos para el hogar    177\n",
            "Instrumentos musicales     177\n",
            "\n",
            "- Tienda 4:\n",
            "Categoría del Producto\n",
            "Muebles                    499\n",
            "Electrónicos               451\n",
            "Juguetes                   315\n",
            "Electrodomésticos          278\n",
            "Deportes y diversión       277\n",
            "Libros                     185\n",
            "Artículos para el hogar    177\n",
            "Instrumentos musicales     177\n"
          ]
        }
      ]
    },
    {
      "cell_type": "code",
      "source": [
        "print(\n",
        "    'TOP 3 Ventas por categoría por tienda:\\n'\n",
        "    f'- Tienda 1:\\n{ventas_categoria_tienda1.head(3).to_string(header=False)}\\n\\n'\n",
        "    f'- Tienda 2:\\n{ventas_categoria_tienda2.head(3).to_string(header=False)}\\n\\n'\n",
        "    f'- Tienda 3:\\n{ventas_categoria_tienda3.head(3).to_string(header=False)}\\n\\n'\n",
        "    f'- Tienda 4:\\n{ventas_categoria_tienda4.head(3).to_string(header=False)}'\n",
        ")"
      ],
      "metadata": {
        "id": "yZR6cOjXYSk1",
        "colab": {
          "base_uri": "https://localhost:8080/"
        },
        "outputId": "757bd6b1-0705-4ac7-9e77-8d904a7be6e5"
      },
      "execution_count": 27,
      "outputs": [
        {
          "output_type": "stream",
          "name": "stdout",
          "text": [
            "TOP 3 Ventas por categoría por tienda:\n",
            "- Tienda 1:\n",
            "Muebles         465\n",
            "Electrónicos    448\n",
            "Juguetes        324\n",
            "\n",
            "- Tienda 2:\n",
            "Muebles         442\n",
            "Electrónicos    422\n",
            "Juguetes        313\n",
            "\n",
            "- Tienda 3:\n",
            "Muebles         499\n",
            "Electrónicos    451\n",
            "Juguetes        315\n",
            "\n",
            "- Tienda 4:\n",
            "Muebles         480\n",
            "Electrónicos    451\n",
            "Juguetes        338\n"
          ]
        }
      ]
    },
    {
      "cell_type": "markdown",
      "source": [
        "# 3. Calificación promedio de la tienda\n"
      ],
      "metadata": {
        "id": "Rq6tU_xSY3jk"
      }
    },
    {
      "cell_type": "code",
      "source": [
        "Promedio_calificacion_tienda1 = tienda['Calificación'].mean()\n",
        "Promedio_calificacion_tienda2 = tienda2['Calificación'].mean()\n",
        "Promedio_calificacion_tienda3 = tienda3['Calificación'].mean()\n",
        "Promedio_calificacion_tienda4 = tienda4['Calificación'].mean()\n",
        "\n",
        "print(\n",
        "    'Promedio de calificación por tienda:\\n'\n",
        "    f'- Tienda 1:\\n{Promedio_calificacion_tienda1}\\n\\n'\n",
        "    f'- Tienda 2:\\n{Promedio_calificacion_tienda2}\\n\\n'\n",
        "    f'- Tienda 3:\\n{Promedio_calificacion_tienda3}\\n\\n'\n",
        "    f'- Tienda 4:\\n{Promedio_calificacion_tienda4}'\n",
        ")"
      ],
      "metadata": {
        "id": "bh3jjjJwY5MU",
        "colab": {
          "base_uri": "https://localhost:8080/"
        },
        "outputId": "3258f1e8-5535-4c8c-82de-d9d1f9c710d6"
      },
      "execution_count": 38,
      "outputs": [
        {
          "output_type": "stream",
          "name": "stdout",
          "text": [
            "Promedio de calificación por tienda:\n",
            "- Tienda 1:\n",
            "3.976685036032217\n",
            "\n",
            "- Tienda 2:\n",
            "4.037303942348453\n",
            "\n",
            "- Tienda 3:\n",
            "4.048325561678677\n",
            "\n",
            "- Tienda 4:\n",
            "3.9957591178965224\n"
          ]
        }
      ]
    },
    {
      "cell_type": "code",
      "source": [
        "Calificacion = {'Tienda 1': Promedio_calificacion_tienda1,\n",
        "            'Tienda 2': Promedio_calificacion_tienda2,\n",
        "            'Tienda 3': Promedio_calificacion_tienda3,\n",
        "            'Tienda 4': Promedio_calificacion_tienda4}\n",
        "\n",
        "tienda_mejor_calificacion = max(Calificacion, key=Calificacion.get)\n",
        "print(f'La tienda mejor evaluada es {tienda_mejor_calificacion} con promedio de calificación {Calificacion[tienda_mejor_calificacion]}')"
      ],
      "metadata": {
        "id": "I0KkjPoTY88F",
        "colab": {
          "base_uri": "https://localhost:8080/"
        },
        "outputId": "41f56aae-1e9a-43a4-87f8-299c186dad0a"
      },
      "execution_count": 40,
      "outputs": [
        {
          "output_type": "stream",
          "name": "stdout",
          "text": [
            "La tienda mejor evaluada es Tienda 3 con promedio de calificación 4.048325561678677\n"
          ]
        }
      ]
    },
    {
      "cell_type": "markdown",
      "source": [
        "# 4. Productos más y menos vendidos"
      ],
      "metadata": {
        "id": "DmNp1KPBZCm-"
      }
    },
    {
      "cell_type": "code",
      "source": [
        "ventas_producto_tienda1 = tienda.groupby('Producto').size().sort_values(ascending=False)\n",
        "ventas_producto_tienda2 = tienda2.groupby('Producto').size().sort_values(ascending=False)\n",
        "ventas_producto_tienda3 = tienda3.groupby('Producto').size().sort_values(ascending=False)\n",
        "ventas_producto_tienda4 = tienda4.groupby('Producto').size().sort_values(ascending=False)\n",
        "\n",
        "print(\n",
        "    'Ventas por categoría por tienda:\\n'\n",
        "    f'- Tienda 1:\\n{ventas_producto_tienda1.to_string()}\\n\\n'\n",
        "    f'- Tienda 2:\\n{ventas_producto_tienda2.to_string()}\\n\\n'\n",
        "    f'- Tienda 3:\\n{ventas_producto_tienda3.to_string()}\\n\\n'\n",
        "    f'- Tienda 4:\\n{ventas_producto_tienda4.to_string()}'\n",
        ")"
      ],
      "metadata": {
        "id": "qoyjqijQZHfF",
        "colab": {
          "base_uri": "https://localhost:8080/"
        },
        "outputId": "96e057d1-5198-4550-9958-870908923ea5"
      },
      "execution_count": 41,
      "outputs": [
        {
          "output_type": "stream",
          "name": "stdout",
          "text": [
            "Ventas por categoría por tienda:\n",
            "- Tienda 1:\n",
            "Producto\n",
            "Armario                        60\n",
            "TV LED UHD 4K                  60\n",
            "Microondas                     60\n",
            "Secadora de ropa               58\n",
            "Mesa de noche                  56\n",
            "Bloques de construcción        56\n",
            "Balón de baloncesto            55\n",
            "Bicicleta                      54\n",
            "Impresora                      54\n",
            "Vaso térmico                   54\n",
            "Refrigerador                   54\n",
            "Batería                        53\n",
            "Cubertería                     52\n",
            "Carrito de control remoto      52\n",
            "Modelado predictivo            51\n",
            "Auriculares                    50\n",
            "Ajedrez de madera              49\n",
            "Iphone 15                      49\n",
            "Lavavajillas                   48\n",
            "Guitarra eléctrica             47\n",
            "Lavadora de ropa               47\n",
            "Silla de oficina               46\n",
            "Sofá reclinable                46\n",
            "Guitarra acústica              46\n",
            "Estufa                         45\n",
            "Mesa de centro                 44\n",
            "Kit de bancas                  44\n",
            "Cama box                       44\n",
            "Cubo mágico 8x8                44\n",
            "Smart TV                       44\n",
            "Cama king                      44\n",
            "Juego de mesa                  43\n",
            "Smartwatch                     43\n",
            "Set de ollas                   43\n",
            "Dashboards con Power BI        42\n",
            "Tablet ABXY                    42\n",
            "Balón de voleibol              42\n",
            "Sillón                         41\n",
            "Iniciando en programación      41\n",
            "Set de vasos                   41\n",
            "Asistente virtual              40\n",
            "Dinosaurio Rex                 40\n",
            "Cuerda para saltar             40\n",
            "Muñeca bebé                    40\n",
            "Mesa de comedor                40\n",
            "Ciencia de datos con Python    39\n",
            "Mochila                        39\n",
            "Pandereta                      36\n",
            "Olla de presión                35\n",
            "Celular ABXY                   33\n",
            "Auriculares con micrófono      33\n",
            "\n",
            "- Tienda 2:\n",
            "Producto\n",
            "Iniciando en programación      65\n",
            "Microondas                     62\n",
            "Batería                        61\n",
            "Pandereta                      58\n",
            "Guitarra acústica              58\n",
            "Secadora de ropa               57\n",
            "Iphone 15                      55\n",
            "Bloques de construcción        54\n",
            "Armario                        54\n",
            "Set de ollas                   52\n",
            "Cuerda para saltar             50\n",
            "Lavadora de ropa               49\n",
            "Refrigerador                   49\n",
            "Silla de oficina               49\n",
            "Muñeca bebé                    48\n",
            "Vaso térmico                   47\n",
            "Cama box                       47\n",
            "Carrito de control remoto      47\n",
            "Guitarra eléctrica             47\n",
            "Balón de voleibol              46\n",
            "Modelado predictivo            46\n",
            "Lavavajillas                   46\n",
            "Set de vasos                   46\n",
            "Kit de bancas                  45\n",
            "TV LED UHD 4K                  45\n",
            "Mochila                        45\n",
            "Mesa de centro                 45\n",
            "Cubo mágico 8x8                45\n",
            "Bicicleta                      45\n",
            "Ajedrez de madera              45\n",
            "Cama king                      45\n",
            "Sofá reclinable                44\n",
            "Mesa de noche                  44\n",
            "Olla de presión                44\n",
            "Auriculares con micrófono      44\n",
            "Tablet ABXY                    44\n",
            "Smartwatch                     44\n",
            "Dashboards con Power BI        43\n",
            "Ciencia de datos con Python    43\n",
            "Balón de baloncesto            42\n",
            "Dinosaurio Rex                 42\n",
            "Estufa                         42\n",
            "Celular ABXY                   41\n",
            "Smart TV                       40\n",
            "Cubertería                     39\n",
            "Asistente virtual              38\n",
            "Auriculares                    37\n",
            "Sillón                         35\n",
            "Impresora                      34\n",
            "Mesa de comedor                34\n",
            "Juego de mesa                  32\n",
            "\n",
            "- Tienda 3:\n",
            "Producto\n",
            "Kit de bancas                  57\n",
            "Mesa de comedor                56\n",
            "Cama king                      56\n",
            "Set de ollas                   55\n",
            "Mesa de noche                  55\n",
            "Smart TV                       54\n",
            "Modelado predictivo            53\n",
            "Cuerda para saltar             53\n",
            "Estufa                         53\n",
            "Carrito de control remoto      52\n",
            "Juego de mesa                  52\n",
            "Lavavajillas                   52\n",
            "Bicicleta                      52\n",
            "Pandereta                      51\n",
            "Balón de baloncesto            50\n",
            "Refrigerador                   50\n",
            "Impresora                      50\n",
            "Armario                        49\n",
            "Balón de voleibol              48\n",
            "Tablet ABXY                    48\n",
            "Olla de presión                47\n",
            "Sillón                         47\n",
            "Ajedrez de madera              47\n",
            "Guitarra acústica              47\n",
            "Smartwatch                     46\n",
            "Iphone 15                      46\n",
            "Silla de oficina               46\n",
            "Iniciando en programación      46\n",
            "Cama box                       46\n",
            "Ciencia de datos con Python    46\n",
            "Dinosaurio Rex                 46\n",
            "Sofá reclinable                45\n",
            "Secadora de ropa               45\n",
            "Celular ABXY                   44\n",
            "Cubo mágico 8x8                44\n",
            "Auriculares                    43\n",
            "Lavadora de ropa               42\n",
            "TV LED UHD 4K                  42\n",
            "Mesa de centro                 42\n",
            "Batería                        41\n",
            "Dashboards con Power BI        40\n",
            "Auriculares con micrófono      39\n",
            "Asistente virtual              39\n",
            "Muñeca bebé                    39\n",
            "Cubertería                     39\n",
            "Vaso térmico                   38\n",
            "Guitarra eléctrica             38\n",
            "Mochila                        36\n",
            "Microondas                     36\n",
            "Set de vasos                   36\n",
            "Bloques de construcción        35\n",
            "\n",
            "- Tienda 4:\n",
            "Producto\n",
            "Cama box                       62\n",
            "Cubertería                     59\n",
            "Cama king                      56\n",
            "Dashboards con Power BI        56\n",
            "Carrito de control remoto      55\n",
            "Mesa de noche                  55\n",
            "Mesa de comedor                55\n",
            "Bloques de construcción        54\n",
            "Smart TV                       54\n",
            "Pandereta                      52\n",
            "Asistente virtual              50\n",
            "Balón de baloncesto            50\n",
            "Impresora                      50\n",
            "Set de ollas                   50\n",
            "Modelado predictivo            50\n",
            "Iphone 15                      48\n",
            "Balón de voleibol              48\n",
            "Batería                        48\n",
            "Juego de mesa                  48\n",
            "Muñeca bebé                    48\n",
            "Microondas                     48\n",
            "Vaso térmico                   48\n",
            "Cubo mágico 8x8                47\n",
            "Estufa                         47\n",
            "Sofá reclinable                47\n",
            "Dinosaurio Rex                 47\n",
            "Olla de presión                46\n",
            "Set de vasos                   46\n",
            "Sillón                         45\n",
            "Tablet ABXY                    45\n",
            "Bicicleta                      45\n",
            "Auriculares                    44\n",
            "Mesa de centro                 44\n",
            "Mochila                        43\n",
            "Cuerda para saltar             43\n",
            "Lavavajillas                   43\n",
            "Iniciando en programación      43\n",
            "Auriculares con micrófono      42\n",
            "Kit de bancas                  42\n",
            "TV LED UHD 4K                  40\n",
            "Silla de oficina               40\n",
            "Secadora de ropa               40\n",
            "Celular ABXY                   39\n",
            "Ajedrez de madera              39\n",
            "Smartwatch                     39\n",
            "Lavadora de ropa               38\n",
            "Ciencia de datos con Python    38\n",
            "Refrigerador                   38\n",
            "Guitarra acústica              37\n",
            "Armario                        34\n",
            "Guitarra eléctrica             33\n"
          ]
        }
      ]
    },
    {
      "cell_type": "code",
      "source": [
        "print(\n",
        "    'TOP 3 productos más vendido por tienda:\\n'\n",
        "    f'- Tienda 1:\\n{ventas_producto_tienda1.head(3).to_string(header=False)}\\n\\n'\n",
        "    f'- Tienda 2:\\n{ventas_producto_tienda2.head(3).to_string(header=False)}\\n\\n'\n",
        "    f'- Tienda 3:\\n{ventas_producto_tienda3.head(3).to_string(header=False)}\\n\\n'\n",
        "    f'- Tienda 4:\\n{ventas_producto_tienda4.head(3).to_string(header=False)}'\n",
        ")"
      ],
      "metadata": {
        "id": "0Sw3sd4IZIGW",
        "colab": {
          "base_uri": "https://localhost:8080/"
        },
        "outputId": "15154dfb-9bd0-4542-e8d4-d1cf5d1eb9bd"
      },
      "execution_count": 67,
      "outputs": [
        {
          "output_type": "stream",
          "name": "stdout",
          "text": [
            "TOP 3 productos más vendido por tienda:\n",
            "- Tienda 1:\n",
            "Armario          60\n",
            "TV LED UHD 4K    60\n",
            "Microondas       60\n",
            "\n",
            "- Tienda 2:\n",
            "Iniciando en programación    65\n",
            "Microondas                   62\n",
            "Batería                      61\n",
            "\n",
            "- Tienda 3:\n",
            "Kit de bancas      57\n",
            "Mesa de comedor    56\n",
            "Cama king          56\n",
            "\n",
            "- Tienda 4:\n",
            "Cama box      62\n",
            "Cubertería    59\n",
            "Cama king     56\n"
          ]
        }
      ]
    },
    {
      "cell_type": "code",
      "source": [
        "print(\n",
        "    'TOP 3 producto menos vendido por tienda:\\n'\n",
        "    f'- Tienda 1:\\n{ventas_producto_tienda1.tail(3).to_string(header=False)}\\n\\n'\n",
        "    f'- Tienda 2:\\n{ventas_producto_tienda2.tail(3).to_string(header=False)}\\n\\n'\n",
        "    f'- Tienda 3:\\n{ventas_producto_tienda3.tail(3).to_string(header=False)}\\n\\n'\n",
        "    f'- Tienda 4:\\n{ventas_producto_tienda4.tail(3).to_string(header=False)}'\n",
        ")"
      ],
      "metadata": {
        "colab": {
          "base_uri": "https://localhost:8080/"
        },
        "id": "oMexR86tEd7T",
        "outputId": "7e2fd426-06c4-4e48-ca62-dc30b1b90d6e"
      },
      "execution_count": 45,
      "outputs": [
        {
          "output_type": "stream",
          "name": "stdout",
          "text": [
            "TOP 3 producto menos vendido por tienda:\n",
            "- Tienda 1:\n",
            "Olla de presión              35\n",
            "Celular ABXY                 33\n",
            "Auriculares con micrófono    33\n",
            "\n",
            "- Tienda 2:\n",
            "Impresora          34\n",
            "Mesa de comedor    34\n",
            "Juego de mesa      32\n",
            "\n",
            "- Tienda 3:\n",
            "Microondas                 36\n",
            "Set de vasos               36\n",
            "Bloques de construcción    35\n",
            "\n",
            "- Tienda 4:\n",
            "Guitarra acústica     37\n",
            "Armario               34\n",
            "Guitarra eléctrica    33\n"
          ]
        }
      ]
    },
    {
      "cell_type": "markdown",
      "source": [
        "# 5. Envío promedio por tienda"
      ],
      "metadata": {
        "id": "Fl0cGi3bZKqU"
      }
    },
    {
      "cell_type": "code",
      "source": [
        "Promedio_envio_tienda1 = tienda['Costo de envío'].mean()\n",
        "Promedio_envio_tienda2 = tienda2['Costo de envío'].mean()\n",
        "Promedio_envio_tienda3 = tienda3['Costo de envío'].mean()\n",
        "Promedio_envio_tienda4 = tienda4['Costo de envío'].mean()\n",
        "\n",
        "print(\n",
        "    'Promedio de costo de envío por tienda:\\n'\n",
        "    f'- Tienda 1:\\n{Promedio_envio_tienda1}\\n\\n'\n",
        "    f'- Tienda 2:\\n{Promedio_envio_tienda2}\\n\\n'\n",
        "    f'- Tienda 3:\\n{Promedio_envio_tienda3}\\n\\n'\n",
        "    f'- Tienda 4:\\n{Promedio_envio_tienda4}'\n",
        ")"
      ],
      "metadata": {
        "id": "S2JeaCykZNy9",
        "colab": {
          "base_uri": "https://localhost:8080/"
        },
        "outputId": "93db15fd-0a7f-44ea-ba22-2ef287020ef8"
      },
      "execution_count": 47,
      "outputs": [
        {
          "output_type": "stream",
          "name": "stdout",
          "text": [
            "Promedio de costo de envío por tienda:\n",
            "- Tienda 1:\n",
            "26018.60958033065\n",
            "\n",
            "- Tienda 2:\n",
            "25216.235693090293\n",
            "\n",
            "- Tienda 3:\n",
            "24805.680373039424\n",
            "\n",
            "- Tienda 4:\n",
            "23459.457167090754\n"
          ]
        }
      ]
    },
    {
      "cell_type": "code",
      "source": [
        "Envio = {'Tienda 1': Promedio_envio_tienda1,\n",
        "            'Tienda 2': Promedio_envio_tienda2,\n",
        "            'Tienda 3': Promedio_envio_tienda3,\n",
        "            'Tienda 4': Promedio_envio_tienda4}\n",
        "\n",
        "tienda_menor_costo_envio = min(Envio, key=Envio.get)\n",
        "print(f'La tienda con el menor costo de envío es {tienda_menor_costo_envio} con un promedio de {Envio[tienda_menor_costo_envio]}')"
      ],
      "metadata": {
        "colab": {
          "base_uri": "https://localhost:8080/"
        },
        "id": "7mT3UKgJGdYk",
        "outputId": "df733f09-68bd-44b2-d206-3c7c8d7bf9b5"
      },
      "execution_count": 49,
      "outputs": [
        {
          "output_type": "stream",
          "name": "stdout",
          "text": [
            "La tienda con el menor costo de envío es Tienda 4 con un promedio de 23459.457167090754\n"
          ]
        }
      ]
    },
    {
      "cell_type": "code",
      "source": [
        "import matplotlib.pyplot as plt"
      ],
      "metadata": {
        "id": "Fibmpp6iHsx3"
      },
      "execution_count": 50,
      "outputs": []
    },
    {
      "cell_type": "code",
      "source": [
        "ingresos_series = pd.Series(ingresos)\n",
        "\n",
        "plt.figure(figsize=(8, 5))\n",
        "ingresos_series.plot(kind='bar', color='red')\n",
        "plt.title('Ventas por Tienda')\n",
        "plt.xlabel('Tienda')\n",
        "plt.ylabel('Ingreso Total')\n",
        "plt.xticks(rotation=45)\n",
        "plt.tight_layout()\n",
        "plt.show()\n",
        "\n",
        "\n",
        "envio_series = pd.Series(Envio)\n",
        "\n",
        "plt.figure(figsize=(8, 5))\n",
        "envio_series.plot(kind='bar', color='green')\n",
        "plt.title('Costo de envío por Tienda')\n",
        "plt.xlabel('Tienda')\n",
        "plt.ylabel('Costo')\n",
        "plt.xticks(rotation=45)\n",
        "plt.tight_layout()\n",
        "plt.show()\n",
        "\n",
        "\n",
        "top1 = ventas_categoria_tienda1.head(3).rename(lambda x: f\"Tienda 1 - {x}\")\n",
        "top2 = ventas_categoria_tienda2.head(3).rename(lambda x: f\"Tienda 2 - {x}\")\n",
        "top3 = ventas_categoria_tienda3.head(3).rename(lambda x: f\"Tienda 3 - {x}\")\n",
        "top4 = ventas_categoria_tienda4.head(3).rename(lambda x: f\"Tienda 4 - {x}\")\n",
        "\n",
        "top_total = pd.concat([top1, top2, top3, top4])\n",
        "\n",
        "plt.figure(figsize=(10, 6))\n",
        "top_total.plot(kind='barh', color='skyblue')\n",
        "plt.title('Top 3 Categorías por Tienda')\n",
        "plt.xlabel('Categoría y Tienda')\n",
        "plt.show()\n",
        "\n",
        "\n",
        "\n"
      ],
      "metadata": {
        "id": "utRs-LrUHumG",
        "outputId": "cffc43bc-9ac8-4b94-8dcf-dc5c7d6e556f",
        "colab": {
          "base_uri": "https://localhost:8080/",
          "height": 1000
        }
      },
      "execution_count": 66,
      "outputs": [
        {
          "output_type": "display_data",
          "data": {
            "text/plain": [
              "<Figure size 800x500 with 1 Axes>"
            ],
            "image/png": "[encoded data removed]"
          },
          "metadata": {}
        },
        {
          "output_type": "display_data",
          "data": {
            "text/plain": [
              "<Figure size 800x500 with 1 Axes>"
            ],
            "image/png": "[encoded data removed]"
          },
          "metadata": {}
        },
        {
          "output_type": "display_data",
          "data": {
            "text/plain": [
              "<Figure size 1000x600 with 1 Axes>"
            ],
            "image/png": "[encoded data removed]"
          },
          "metadata": {}
        }
      ]
    },
    {
      "cell_type": "markdown",
      "source": [
        "### Informe"
      ],
      "metadata": {
        "id": "FC78mV0CPHo2"
      }
    },
    {
      "cell_type": "markdown",
      "source": [
        "Luego de analizar los datos de cuatro tiendas de la cadena Alura Store para evaluar la venta de una de ellas para iniciar un nuevo emprendimiento.\n",
        "\n",
        "Se analizó la información a partir de cuatro indicadores: Ventas Totales, Costos de Envío, Evaluación de los Clientes y Productos/Categorías más vendidas.\n",
        "\n",
        "El resumen por categoría es el siguiente:\n",
        "\n",
        "**1.   Ingresos Totales por Tienda:**\n",
        "\n",
        "*   Ingreso total tienda 1: 1150880400.0\n",
        "*   Ingreso total tienda 2: 1116343500.0\n",
        "*   Ingreso total tienda 3: 1098019600.0\n",
        "*   Ingreso total tienda 4: 1038375700.0\n",
        "\n",
        "**2.   Ventas por categoría:**\n",
        "\n",
        "Ranking TOP 3 Ventas por categoría:\n",
        "\n",
        "Para todas las tiendas, las categorías que más se venden son las siguientes:\n",
        "*   Muebles\n",
        "*   Electrónicos\n",
        "*   Juguetes\n",
        "\n",
        "**3.   Calificación promedio de la tienda**\n",
        "\n",
        "La tienda mejor evaluada es Tienda 3 con un promedio de calificación 4.048325561678677\n",
        "\n",
        "**4.   Productos más y menos vendidos**\n",
        "\n",
        "Ranking TOP 3 productos más vendido por tienda:\n",
        "\n",
        "Tienda 1:\n",
        "*   Armario         \n",
        "*   TV LED UHD 4K\n",
        "*   Microondas\n",
        "\n",
        "Tienda 2:\n",
        "*   Iniciando en programación\n",
        "*   Microondas\n",
        "*   Batería\n",
        "\n",
        "Tienda 3:\n",
        "*   Kit de bancas\n",
        "*   Mesa de comedor\n",
        "*   Cama king\n",
        "\n",
        "Tienda 4:\n",
        "*   Cama box\n",
        "*   Cubertería\n",
        "*   Cama king\n",
        "\n",
        "Ranking TOP 3 productos menos vendido por tienda:\n",
        "\n",
        "TOP 3 producto menos vendido por tienda:\n",
        "\n",
        "Tienda 1:\n",
        "*   Olla de presión\n",
        "*   Celular ABXY\n",
        "*   Auriculares con micrófono\n",
        "\n",
        "Tienda 2:\n",
        "*   Impresora\n",
        "*   Mesa de comedor\n",
        "*   Juego de mesa\n",
        "\n",
        "Tienda 3:\n",
        "*   Microondas\n",
        "*   Set de vasos\n",
        "*   Bloques de construcción\n",
        "\n",
        "Tienda 4:\n",
        "*   Guitarra acústica\n",
        "*   Armario\n",
        "*   Guitarra eléctrica\n",
        "\n",
        "**5. Envío promedio por tienda**\n",
        "\n",
        "La tienda con el menor costo de envío es Tienda 4 con un promedio de 23459.457167090754\n",
        "\n",
        "**En conclusión**\n",
        "\n",
        "Con base a la triada de indicadores (Ingreso Total,\tCalificación Promedio,\tCosto de Envío) —donde un mayor ingreso total y una mejor calificación promedio representan un mejor desempeño, mientras que un menor costo de envío es preferible— se concluye qué tienda presenta la peor performance.\n",
        "Aunque Tienda 1 tiene el ingreso más alto, sacrifica fuertemente en los otros dos factores:\n",
        "\n",
        "Tiene la peor calificación promedio de clientes (3.97), lo cual es crítico para la percepción de calidad y satisfacción.\n",
        "\n",
        "Tiene el costo de envío más alto, lo que impacta negativamente en la conversión final y la competitividad.\n",
        "\n",
        "\n",
        "\n"
      ],
      "metadata": {
        "id": "L-IFZ5tMPMpg"
      }
    }
  ]
}